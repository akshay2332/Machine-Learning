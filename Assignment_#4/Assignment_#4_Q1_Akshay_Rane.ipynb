{
 "cells": [
  {
   "cell_type": "code",
   "execution_count": 1,
   "metadata": {},
   "outputs": [],
   "source": [
    "import math\n",
    "import operator\n",
    "import pandas as pd\n",
    "import numpy as np\n",
    "from sklearn.model_selection import KFold\n",
    "from sklearn.utils import shuffle"
   ]
  },
  {
   "cell_type": "code",
   "execution_count": 2,
   "metadata": {},
   "outputs": [],
   "source": [
    "def load_yeast_dataset(file_name):\n",
    "    yeast_dataframe = pd.read_table(file_name, delim_whitespace=True, names=(\"id\", \"feature_1\", \"feature_2\",\\\n",
    "                                                                     \"feature_3\",\"feature_4\",\"feature_5\",\\\n",
    "                                                                     \"feature_6\",\"feature_7\",\"feature_8\",\"cluster_name\"))\n",
    "    return yeast_dataframe\n",
    "\n",
    "\n",
    "def find_euclidean_distance(sample_1, sample_2, dimensions):\n",
    "    distance = 0\n",
    " \n",
    "    for feature in dimensions:\n",
    "        distance += pow((sample_1[feature] - sample_2[feature]), 2)\n",
    "    return math.sqrt(distance)\n",
    "\n",
    "def find_nearest_neighbors(neighbors_of_sample, sample, number_of_neighbors,dimensions):\n",
    "    \n",
    "    distance_of_neighbor = []\n",
    "    \n",
    "    for idx,datapoint in neighbors_of_sample.iterrows():\n",
    "        dist = find_euclidean_distance(sample, datapoint, dimensions)\n",
    "        distance_of_neighbor.append((datapoint, dist))\n",
    "    \n",
    "    distance_of_neighbor.sort(key=operator.itemgetter(1))\n",
    "    neighbors = []\n",
    "    \n",
    "    for x in range(number_of_neighbors):\n",
    "        neighbors.append(distance_of_neighbor[x][0])\n",
    "    \n",
    "    return neighbors\n",
    "\n",
    "def predict_class(neighbors):\n",
    "    \n",
    "    classVotes = {}\n",
    "    for neighbor in neighbors:\n",
    "        \n",
    "        response = neighbor.cluster_name\n",
    "        \n",
    "        if response in classVotes:\n",
    "            classVotes[response] += 1\n",
    "        else:\n",
    "            classVotes[response] = 1\n",
    "    \n",
    "    sortedVotes = sorted(classVotes.items(), key=operator.itemgetter(1), reverse=True)\n",
    "    return sortedVotes[0][0]\n",
    "                          \n",
    "\n",
    "def fetch_accuracy(Y_test, predictions):\n",
    "    correct_classification = 0\n",
    "    counter = 0\n",
    "    \n",
    "    for idx, row in Y_test.iterrows():\n",
    "        if row.cluster_name == predictions[counter]:\n",
    "            correct_classification += 1\n",
    "        counter = counter + 1\n",
    "                          \n",
    "    return (correct_classification/float(len(Y_test))) * 100.0\n",
    "\n",
    "def perform_cross_validation_kmeans(kfold_factor, yeast_dataset, neighbors):\n",
    "    \n",
    "    k_fold = KFold(n_splits=kfold_factor)\n",
    "    \n",
    "    Y_dataframe = yeast_dataset[[\"id\",\"cluster_name\"]]\n",
    "    X_dataframe = yeast_dataset.drop(\"cluster_name\",axis = 1)\n",
    "    \n",
    "    X_column_values = X_dataframe.columns\n",
    "    Y_column_values = Y_dataframe.columns\n",
    "    \n",
    "    X_dataframe = np.array(X_dataframe)\n",
    "    Y_dataframe = np.array(Y_dataframe)\n",
    "    \n",
    "    X_shuffled , predictions_shuffled = shuffle(X_dataframe, Y_dataframe, random_state=0)\n",
    "    \n",
    "    accuracies = []\n",
    "    \n",
    "    for train_index, test_index in k_fold.split(X_shuffled):\n",
    "        y_train, y_test = predictions_shuffled[train_index], predictions_shuffled[test_index]\n",
    "       \n",
    "        X_train, X_test = X_shuffled[train_index], X_shuffled[test_index]\n",
    "        \n",
    "        X_train = pd.DataFrame(data=X_train, columns=X_column_values, dtype =object)\n",
    "        Y_train = pd.DataFrame(data=y_train, columns=Y_column_values, dtype =object)\n",
    "        \n",
    "        X_test = pd.DataFrame(data=X_test, columns=X_column_values, dtype =object)\n",
    "        Y_test = pd.DataFrame(data=y_test, columns=Y_column_values, dtype =object)\n",
    "        \n",
    "        train_dataframe_new = pd.merge(X_train, Y_train, on=[\"id\"])\n",
    "        train_dataframe_new = train_dataframe_new.drop([\"id\"], axis=1)\n",
    "        X_test = X_test.drop([\"id\"],axis=1)\n",
    "        \n",
    "        predictions=[]               \n",
    "        \n",
    "        for idx,sample in X_test.iterrows():\n",
    "            nearest_neighbors = find_nearest_neighbors(train_dataframe_new, sample, neighbors,X_test.columns)\n",
    "            #print(\"nearest_neighbors\",nearest_neighbors)\n",
    "            #print(\"sample\",sample)\n",
    "            predictied_class = predict_class(nearest_neighbors)\n",
    "            \n",
    "            predictions.append(predictied_class)\n",
    "          \n",
    "        accuracy = fetch_accuracy(Y_test, predictions)\n",
    "        accuracies.append(accuracy)\n",
    "    \n",
    "    return np.max(accuracies)\n",
    "        \n",
    "    "
   ]
  },
  {
   "cell_type": "code",
   "execution_count": 3,
   "metadata": {},
   "outputs": [
    {
     "name": "stdout",
     "output_type": "stream",
     "text": [
      "Maximum accuracy 64.1891891891892\n"
     ]
    }
   ],
   "source": [
    "yeast_dataframe = load_yeast_dataset(\"yeast.data\")\n",
    "\n",
    "accuracy = perform_cross_validation_kmeans(10, yeast_dataframe,10)\n",
    "\n",
    "print(\"Maximum accuracy\", accuracy)\n"
   ]
  },
  {
   "cell_type": "code",
   "execution_count": null,
   "metadata": {},
   "outputs": [],
   "source": []
  },
  {
   "cell_type": "code",
   "execution_count": null,
   "metadata": {},
   "outputs": [],
   "source": [
    "\n"
   ]
  },
  {
   "cell_type": "code",
   "execution_count": null,
   "metadata": {},
   "outputs": [],
   "source": []
  }
 ],
 "metadata": {
  "kernelspec": {
   "display_name": "Python 3",
   "language": "python",
   "name": "python3"
  },
  "language_info": {
   "codemirror_mode": {
    "name": "ipython",
    "version": 3
   },
   "file_extension": ".py",
   "mimetype": "text/x-python",
   "name": "python",
   "nbconvert_exporter": "python",
   "pygments_lexer": "ipython3",
   "version": "3.7.1"
  }
 },
 "nbformat": 4,
 "nbformat_minor": 2
}
