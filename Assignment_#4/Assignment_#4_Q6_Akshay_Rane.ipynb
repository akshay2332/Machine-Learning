{
  "nbformat": 4,
  "nbformat_minor": 0,
  "metadata": {
    "colab": {
      "name": "Assignment_#4_Akshay_Rane_Q6.ipynb",
      "version": "0.3.2",
      "provenance": [],
      "collapsed_sections": []
    },
    "language_info": {
      "codemirror_mode": {
        "name": "ipython",
        "version": 3
      },
      "file_extension": ".py",
      "mimetype": "text/x-python",
      "name": "python",
      "nbconvert_exporter": "python",
      "pygments_lexer": "ipython3",
      "version": "3.7.1"
    },
    "kernelspec": {
      "name": "python3",
      "display_name": "Python 3"
    },
    "accelerator": "GPU"
  },
  "cells": [
    {
      "metadata": {
        "id": "dqpOGTuXE9QA",
        "colab_type": "code",
        "colab": {
          "base_uri": "https://localhost:8080/",
          "height": 34
        },
        "outputId": "6ce3ab0e-457d-486d-dd1e-3b734a634545"
      },
      "cell_type": "code",
      "source": [
        "import _pickle as cPickle\n",
        "import gzip\n",
        "import numpy as np\n",
        "import pandas as pd\n",
        "from sklearn.metrics import accuracy_score\n",
        "\n",
        "import matplotlib.pyplot as plt\n",
        "\n",
        "from keras.models import Sequential\n",
        "from keras.layers import Dense, Dropout, Flatten\n",
        "from keras.layers import Conv2D, MaxPooling2D\n",
        "from keras.layers.advanced_activations import LeakyReLU\n",
        "from keras.callbacks import EarlyStopping\n",
        "from keras.utils import to_categorical\n",
        "from sklearn.metrics import mean_squared_error\n",
        "\n",
        "# plot charts inline\n",
        "%matplotlib inline"
      ],
      "execution_count": 1,
      "outputs": [
        {
          "output_type": "stream",
          "text": [
            "Using TensorFlow backend.\n"
          ],
          "name": "stderr"
        }
      ]
    },
    {
      "metadata": {
        "id": "17GxJW-TE9QG",
        "colab_type": "code",
        "colab": {}
      },
      "cell_type": "code",
      "source": [
        "batch_size = 32\n",
        "epochs = 10\n",
        "num_classes = 10\n",
        "\n",
        "\n",
        "def separate_componenets_frame(dataframe_set):\n",
        "  \n",
        "    X_set,Y_set = dataframe_set[0],dataframe_set[1]\n",
        "    X_set = X_set / 255\n",
        "    \n",
        "    Y_set = to_categorical(Y_set)\n",
        "    \n",
        "    X_set = np.array(X_set).reshape(-1,28,28, 1)\n",
        "    \n",
        "    return X_set,Y_set\n",
        "\n",
        "def load_dataset(fileName):\n",
        "    file_loaded = gzip.open(fileName, \"rb\")\n",
        "    train_set, valid_set, test_set = cPickle.load(file_loaded,encoding=\"latin1\")\n",
        "    file_loaded.close()\n",
        "    return train_set, valid_set, test_set\n",
        "\n",
        "def create_model():\n",
        "    \n",
        "    cnn_model = Sequential()\n",
        "    cnn_model.add(Conv2D(batch_size, kernel_size=(2, 2),activation='linear',input_shape=(28,28,1),padding='same'))\n",
        "    cnn_model.add(LeakyReLU(alpha=0.1))\n",
        "    cnn_model.add(MaxPooling2D((2, 2),padding='same'))\n",
        "    cnn_model.add(Conv2D(batch_size*2, (3, 3), activation='linear',padding='same'))\n",
        "    cnn_model.add(LeakyReLU(alpha=0.1))\n",
        "    cnn_model.add(MaxPooling2D(pool_size=(2, 2),padding='same'))\n",
        "    cnn_model.add(Conv2D(batch_size*4, (3, 3), activation='linear',padding='same'))\n",
        "    cnn_model.add(LeakyReLU(alpha=0.1))                  \n",
        "    cnn_model.add(MaxPooling2D(pool_size=(2, 2),padding='same'))\n",
        "    cnn_model.add(Flatten())\n",
        "    cnn_model.add(Dense(128, activation='linear'))\n",
        "    cnn_model.add(LeakyReLU(alpha=0.1))                  \n",
        "    cnn_model.add(Dense(10, activation='softmax'))\n",
        "    \n",
        "    cnn_model.compile(loss=\"categorical_crossentropy\", \\\n",
        "             optimizer=\"adam\", \\\n",
        "              metrics=[\"accuracy\",\"mae\"])\n",
        "    \n",
        "    return cnn_model\n",
        "\n",
        "def print_model_summary(model):\n",
        "    model.summary()\n",
        "    \n",
        "def fit_model(X_train,Y_train, X_validate,Y_validate , model):\n",
        "    \n",
        "    callbacks_list = [EarlyStopping(monitor='val_loss', patience=3)]\n",
        "    training = model.fit(X_train, Y_train, \\\n",
        "                   validation_data = [X_validate, Y_validate], \\\n",
        "                   shuffle = True, epochs = 1, \\\n",
        "                   batch_size = 64, callbacks = callbacks_list)\n",
        "    \n",
        "    return training\n",
        "\n",
        "def plot_training_process(process_history):\n",
        "    df=pd.DataFrame.from_dict(process_history)\n",
        "    df.index.name='epoch'\n",
        "    #print(df)\n",
        "\n",
        "    fig, axes = plt.subplots(nrows=1, ncols=2, figsize=(8,3));\n",
        "\n",
        "    df[[\"train_acc\", \"val_acc\",\"test_acc\"]].plot(ax=axes[0]);\n",
        "    df[[\"train_loss\", \"val_loss\"]].plot(ax=axes[1]);\n",
        "    \n",
        "    df[[\"train_error\", \"val_error\",\"test_error\"]].plot();\n",
        "    plt.show();\n",
        "    \n",
        "def calculate_accuracy(X_test, Y_test, model):\n",
        "    pred=cnn_model.predict(X_test)\n",
        "    # evaluate the model\n",
        "    scores = cnn_model.evaluate(X_test, Y_test, verbose=0)\n",
        "    accuracy = (scores[1])\n",
        "    error = mean_squared_error(Y_test, pred)\n",
        "    return accuracy, error\n",
        "    "
      ],
      "execution_count": 0,
      "outputs": []
    },
    {
      "metadata": {
        "id": "XnzygIkCE9QJ",
        "colab_type": "code",
        "outputId": "910b8a09-63b8-43a7-eb20-803ae133ff3b",
        "colab": {
          "base_uri": "https://localhost:8080/",
          "height": 1143
        }
      },
      "cell_type": "code",
      "source": [
        "train_set, validation_set, test_set = load_dataset(\"mnist.pkl.gz\")\n",
        "\n",
        "X_train,Y_train = separate_componenets_frame(train_set)\n",
        "X_valid,Y_valid = separate_componenets_frame(validation_set)\n",
        "X_test,Y_test = separate_componenets_frame(test_set)\n",
        "\n",
        "cnn_model = create_model()\n",
        "#print_model_summary(cnn_model)\n",
        "accuracies_train =[]\n",
        "accuracies_valid =[]\n",
        "accuracies_test =[]\n",
        "\n",
        "error_train=[]\n",
        "error_val=[]\n",
        "error_test =[]\n",
        "\n",
        "loss_train =[]\n",
        "loss_valid =[]\n",
        "\n",
        "for i in range(epochs):\n",
        "    \n",
        "    training = fit_model(X_train,Y_train, X_valid,Y_valid,cnn_model)\n",
        "    \n",
        "    accuracies_train.append(training.history[\"acc\"][0])\n",
        "    accuracies_valid.append(training.history[\"val_acc\"][0])\n",
        "    \n",
        "    loss_train.append(training.history[\"loss\"][0])\n",
        "    loss_valid.append(training.history[\"val_loss\"][0])\n",
        "    error_train.append(training.history[\"mean_absolute_error\"][0])\n",
        "    error_val.append(training.history[\"val_mean_absolute_error\"][0])\n",
        "    \n",
        "    accuracy_test, error = calculate_accuracy(X_test, Y_test, model = cnn_model)\n",
        "    accuracies_test.append(accuracy_test)\n",
        "    error_test.append(error)\n",
        "    \n",
        "epoch_history = {\"train_loss\":loss_train,\"val_loss\":loss_valid,\\\n",
        "                 \"train_acc\":accuracies_train,\"val_acc\":accuracies_valid,\\\n",
        "                \"test_acc\":accuracies_test, \"test_error\":error_test,\\\n",
        "                \"train_error\":error_train, \"val_error\":error_val}\n",
        "plot_training_process(process_history = epoch_history)\n",
        "max_accuracy = np.max(accuracies_test)\n",
        "max_accuracy = max_accuracy*100\n",
        "print(\"Accuracy : %.2f%%\" % max_accuracy)\n",
        "\n"
      ],
      "execution_count": 3,
      "outputs": [
        {
          "output_type": "stream",
          "text": [
            "WARNING:tensorflow:From /usr/local/lib/python3.6/dist-packages/tensorflow/python/framework/op_def_library.py:263: colocate_with (from tensorflow.python.framework.ops) is deprecated and will be removed in a future version.\n",
            "Instructions for updating:\n",
            "Colocations handled automatically by placer.\n",
            "WARNING:tensorflow:From /usr/local/lib/python3.6/dist-packages/tensorflow/python/ops/math_ops.py:3066: to_int32 (from tensorflow.python.ops.math_ops) is deprecated and will be removed in a future version.\n",
            "Instructions for updating:\n",
            "Use tf.cast instead.\n",
            "Train on 50000 samples, validate on 10000 samples\n",
            "Epoch 1/1\n",
            "50000/50000 [==============================] - 10s 191us/step - loss: 1.7675 - acc: 0.3289 - mean_absolute_error: 0.1412 - val_loss: 0.1972 - val_acc: 0.9430 - val_mean_absolute_error: 0.0207\n",
            "Train on 50000 samples, validate on 10000 samples\n",
            "Epoch 1/1\n",
            "50000/50000 [==============================] - 5s 90us/step - loss: 0.1264 - acc: 0.9603 - mean_absolute_error: 0.0130 - val_loss: 0.0792 - val_acc: 0.9773 - val_mean_absolute_error: 0.0076\n",
            "Train on 50000 samples, validate on 10000 samples\n",
            "Epoch 1/1\n",
            "50000/50000 [==============================] - 5s 92us/step - loss: 0.0719 - acc: 0.9771 - mean_absolute_error: 0.0074 - val_loss: 0.0777 - val_acc: 0.9773 - val_mean_absolute_error: 0.0069\n",
            "Train on 50000 samples, validate on 10000 samples\n",
            "Epoch 1/1\n",
            "50000/50000 [==============================] - 5s 91us/step - loss: 0.0561 - acc: 0.9825 - mean_absolute_error: 0.0057 - val_loss: 0.0532 - val_acc: 0.9845 - val_mean_absolute_error: 0.0053\n",
            "Train on 50000 samples, validate on 10000 samples\n",
            "Epoch 1/1\n",
            "50000/50000 [==============================] - 5s 95us/step - loss: 0.0439 - acc: 0.9857 - mean_absolute_error: 0.0045 - val_loss: 0.0588 - val_acc: 0.9819 - val_mean_absolute_error: 0.0057\n",
            "Train on 50000 samples, validate on 10000 samples\n",
            "Epoch 1/1\n",
            "50000/50000 [==============================] - 5s 99us/step - loss: 0.0362 - acc: 0.9886 - mean_absolute_error: 0.0038 - val_loss: 0.0550 - val_acc: 0.9842 - val_mean_absolute_error: 0.0042\n",
            "Train on 50000 samples, validate on 10000 samples\n",
            "Epoch 1/1\n",
            "50000/50000 [==============================] - 5s 92us/step - loss: 0.0305 - acc: 0.9902 - mean_absolute_error: 0.0032 - val_loss: 0.0555 - val_acc: 0.9850 - val_mean_absolute_error: 0.0040\n",
            "Train on 50000 samples, validate on 10000 samples\n",
            "Epoch 1/1\n",
            "50000/50000 [==============================] - 5s 91us/step - loss: 0.0264 - acc: 0.9919 - mean_absolute_error: 0.0027 - val_loss: 0.0493 - val_acc: 0.9870 - val_mean_absolute_error: 0.0037\n",
            "Train on 50000 samples, validate on 10000 samples\n",
            "Epoch 1/1\n",
            "50000/50000 [==============================] - 5s 90us/step - loss: 0.0219 - acc: 0.9929 - mean_absolute_error: 0.0023 - val_loss: 0.0424 - val_acc: 0.9882 - val_mean_absolute_error: 0.0033\n",
            "Train on 50000 samples, validate on 10000 samples\n",
            "Epoch 1/1\n",
            "50000/50000 [==============================] - 5s 91us/step - loss: 0.0191 - acc: 0.9939 - mean_absolute_error: 0.0020 - val_loss: 0.0386 - val_acc: 0.9888 - val_mean_absolute_error: 0.0031\n"
          ],
          "name": "stdout"
        },
        {
          "output_type": "display_data",
          "data": {
            "image/png": "[encoded data removed]",
            "text/plain": [
              "<Figure size 576x216 with 2 Axes>"
            ]
          },
          "metadata": {
            "tags": []
          }
        },
        {
          "output_type": "display_data",
          "data": {
            "image/png": "[encoded data removed]",
            "text/plain": [
              "<Figure size 432x288 with 1 Axes>"
            ]
          },
          "metadata": {
            "tags": []
          }
        },
        {
          "output_type": "stream",
          "text": [
            "Accuracy : 98.96%\n"
          ],
          "name": "stdout"
        }
      ]
    },
    {
      "metadata": {
        "id": "jEo9YLySE9QP",
        "colab_type": "code",
        "colab": {}
      },
      "cell_type": "code",
      "source": [
        ""
      ],
      "execution_count": 0,
      "outputs": []
    },
    {
      "metadata": {
        "id": "aCT4xo88E9QT",
        "colab_type": "code",
        "colab": {}
      },
      "cell_type": "code",
      "source": [
        ""
      ],
      "execution_count": 0,
      "outputs": []
    }
  ]
}