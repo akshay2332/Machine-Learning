{
 "cells": [
  {
   "cell_type": "code",
   "execution_count": 123,
   "metadata": {},
   "outputs": [],
   "source": [
    "import _pickle as cPickle\n",
    "import gzip\n",
    "import numpy as np\n",
    "import pandas as pd\n",
    "from sklearn.metrics import accuracy_score\n",
    "\n",
    "import matplotlib.pyplot as plt\n",
    "\n",
    "# plot charts inline\n",
    "%matplotlib inline\n"
   ]
  },
  {
   "cell_type": "code",
   "execution_count": 124,
   "metadata": {},
   "outputs": [],
   "source": [
    "#Load the dataset\n",
    "def separate_componenets_frame(dataframe_set):\n",
    "  \n",
    "    X_set,Y_set = dataframe_set[0],dataframe_set[1]\n",
    "    X_set = X_set / 255\n",
    "    \n",
    "    y_set_normalize = np.zeros(Y_set.shape)\n",
    "    y_set_normalize[np.where(Y_set == 0.0)[0]] = 1\n",
    "    Y_set = y_set_normalize\n",
    "    return X_set,Y_set\n",
    "    \n",
    "def sigmoid_function(a):\n",
    "    sigmoid_value = 1 / (1 + np.exp(-a))\n",
    "    return sigmoid_value\n",
    "\n",
    "def calculate_loss(ground_truth, predictions):\n",
    "\n",
    "    number_of_rows = ground_truth.shape[0]\n",
    "    loss_value = -(1.0/number_of_rows) * ( np.sum( np.multiply(ground_truth,np.log(predictions)) ) )\n",
    "    return loss_value\n",
    "\n",
    "def build_neural_network(X_train, Y_train):\n",
    "    number_of_rows = X_train.shape[0]\n",
    "    dimensions = 4\n",
    "    learning_rate = 1\n",
    "    number_of_digits = 10\n",
    "    loss_value_list = []\n",
    "    loss_value = 0\n",
    "    m = X_train.shape[1]\n",
    "    \n",
    "    w1 = np.random.randn(dimensions,number_of_rows)\n",
    "    b1 = np.zeros((dimensions,1))\n",
    "    w2 = np.random.randn(number_of_digits,dimensions)\n",
    "    b2 = np.random.randn(number_of_digits,1)\n",
    "    \n",
    "    for i in range(20):\n",
    "        activation_value = np.matmul(w1,X_train) + b1#h1\n",
    "        sigmoid_activation_value = sigmoid_function(activation_value)#z1\n",
    "        \n",
    "        activation_value_2 = np.matmul(w2,sigmoid_activation_value) + b2#z2\n",
    "        \n",
    "        sigmoid_activation_value_2 = np.exp(activation_value_2) / np.sum(np.exp(activation_value_2), axis=0)#A2\n",
    "\n",
    "        loss_value = calculate_loss(Y_train, sigmoid_activation_value_2)\n",
    "        \n",
    "        d_activation_value_2 = sigmoid_activation_value_2-Y_train\n",
    "        dw2 = (1.0/m) * np.matmul(d_activation_value_2, sigmoid_activation_value.T)\n",
    "        db2 = (1.0/m) * np.sum(d_activation_value_2, axis=1, keepdims=True)\n",
    "\n",
    "        dA1 = np.matmul(w2.T, d_activation_value_2)\n",
    "        d_activation_value = dA1 * sigmoid_function(activation_value) * (1 - sigmoid_function(activation_value))\n",
    "        dw1 = (1.0/m) * np.matmul(d_activation_value, X_train.T)\n",
    "        db1 = (1.0/m) * np.sum(d_activation_value, axis=1, keepdims=True)\n",
    "\n",
    "        w2 = w2 - learning_rate * dw2\n",
    "        b2 = b2 - learning_rate * db2\n",
    "        w1 = w1 - learning_rate * dw1\n",
    "        b1 = b1 - learning_rate * db1\n",
    "\n",
    "        #if (i % 10 == 0):\n",
    "        print(\"Epoch\", i, \"cost: \", loss_value)\n",
    "        loss_value_list.append(loss_value)\n",
    "        \n",
    "    return w1,w2,b1,b2,loss_value_list\n",
    "\n",
    "def predict(X_test,Y_test,w1,w2,b1,b2):\n",
    "    \n",
    "    Z1 = np.matmul(w1, X_test.T) + b1\n",
    "    A1 = sigmoid_function(Z1)\n",
    "    Z2 = np.matmul(w2, A1) + b2\n",
    "    A2 = np.exp(Z2) / np.sum(np.exp(Z2), axis=0)\n",
    "\n",
    "    predictions = np.argmax(A2, axis=0)\n",
    "    losses = calculate_loss(Y_test,predictions)\n",
    "    \n",
    "    accuracy = accuracy_score(predictions, Y_test)\n",
    "    return accuracy,losses\n",
    "    \n",
    "def plot_graph(training_loss,validation_loss,test_loss):\n",
    "    epoch_count =20\n",
    "    plt.plot(range(epoch_count), training_loss, 'r--')\n",
    "    plt.plot(range(epoch_count), validation_loss, 'b-')\n",
    "    plt.plot(range(epoch_count), test_loss, 'g-')\n",
    "    plt.legend(['Training Loss','Validation Loss', 'Test Loss'])\n",
    "    plt.xlabel('Epoch')\n",
    "    plt.ylabel('Loss')\n",
    "    plt.show();\n",
    "    \n",
    "    \n",
    "\n",
    "\n"
   ]
  },
  {
   "cell_type": "code",
   "execution_count": 125,
   "metadata": {},
   "outputs": [],
   "source": [
    "\n",
    "f = gzip.open(\"mnist.pkl.gz\", \"rb\")\n",
    "train_set, valid_set, test_set = cPickle.load(f,encoding=\"latin1\")\n",
    "f.close()\n",
    "\n",
    "X_train,Y_train = separate_componenets_frame(train_set)"
   ]
  },
  {
   "cell_type": "code",
   "execution_count": null,
   "metadata": {},
   "outputs": [
    {
     "name": "stdout",
     "output_type": "stream",
     "text": [
      "Epoch 0 cost:  2.696973072438294\n",
      "Epoch 1 cost:  2.5140509318734208\n",
      "Epoch 2 cost:  2.4199697385160386\n",
      "Epoch 3 cost:  2.364139127590241\n"
     ]
    }
   ],
   "source": [
    "w1,w2,b1,b2,loss_value_list = build_neural_network(X_train.T,Y_train.T)\n",
    "\n",
    "X_test,Y_test = separate_componenets_frame(test_set)\n",
    "accuracy,losses = predict(X_test,Y_test,w1,w2,b1,b2)\n",
    "print(\"Accuracy with Test Set\",accuracy)\n",
    "\n",
    "X_valid,Y_valid = separate_componenets_frame(valid_set)\n",
    "accuracy_valid,losses_valid = predict(X_valid,Y_valid,w1,w2,b1,b2)\n",
    "print(\"Accuracy with Valid Set\",accuracy_valid)\n",
    "\n"
   ]
  },
  {
   "cell_type": "code",
   "execution_count": null,
   "metadata": {},
   "outputs": [],
   "source": [
    "\n",
    "plt.plot(range(20), loss_value_list, 'r--')\n",
    "plt.legend(['Training Loss'])\n",
    "plt.xlabel('Epoch')\n",
    "plt.ylabel('Loss')\n",
    "plt.show();"
   ]
  },
  {
   "cell_type": "code",
   "execution_count": null,
   "metadata": {},
   "outputs": [],
   "source": []
  }
 ],
 "metadata": {
  "kernelspec": {
   "display_name": "Python 3",
   "language": "python",
   "name": "python3"
  },
  "language_info": {
   "codemirror_mode": {
    "name": "ipython",
    "version": 3
   },
   "file_extension": ".py",
   "mimetype": "text/x-python",
   "name": "python",
   "nbconvert_exporter": "python",
   "pygments_lexer": "ipython3",
   "version": "3.7.1"
  }
 },
 "nbformat": 4,
 "nbformat_minor": 2
}
