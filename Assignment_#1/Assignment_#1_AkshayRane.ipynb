{
 "cells": [
  {
   "cell_type": "markdown",
   "metadata": {},
   "source": [
    "# Machine Learning Assignment 1\n",
    "# Facebook dataset"
   ]
  },
  {
   "cell_type": "code",
   "execution_count": 7,
   "metadata": {},
   "outputs": [],
   "source": [
    "import numpy as np\n",
    "import pandas as pd\n",
    "from sklearn.model_selection import KFold, cross_val_score, train_test_split\n",
    "from sklearn.utils import shuffle\n",
    "from sklearn.linear_model import Ridge\n",
    "from sklearn.linear_model import Lasso"
   ]
  },
  {
   "cell_type": "code",
   "execution_count": 8,
   "metadata": {},
   "outputs": [],
   "source": [
    "# reading training dataset\n",
    "#location of dataset at Dataset/Training/Features_Variant_1.csv\n",
    "train_data = pd.read_csv(\"Dataset/Training/Features_Variant_1.csv\")\n"
   ]
  },
  {
   "cell_type": "code",
   "execution_count": 9,
   "metadata": {},
   "outputs": [],
   "source": [
    "\n",
    "train_data.drop(train_data.iloc[:,5:29], inplace=True, axis=1)\n",
    "train_data = train_data.loc[:, (train_data != 0).any(axis=0)]\n"
   ]
  },
  {
   "cell_type": "code",
   "execution_count": 10,
   "metadata": {},
   "outputs": [],
   "source": [
    "def perform_cross_validation(model_type , kfold_factor):\n",
    "    \n",
    "    regression_errors = []\n",
    "    k_fold = KFold(n_splits=kfold_factor)\n",
    "    \n",
    "    X = np.array(train_data.iloc[:,:-1])\n",
    "    predictions = train_data.iloc[:,-1]\n",
    "    \n",
    "    X_shuffled , predictions_shuffled = shuffle(X, predictions, random_state=0)\n",
    "    \n",
    "    if model_type.lower() == \"lasso\":\n",
    "        regression_model = Lasso(alpha=1.0, normalize=True)\n",
    "    elif model_type.lower() == \"ridge\":\n",
    "        regression_model =  Ridge(alpha=1.0,normalize=True)\n",
    "    else:\n",
    "        return\n",
    "        \n",
    "    \n",
    "    for train_index, test_index in k_fold.split(X_shuffled):\n",
    "        X_train, X_test = X_shuffled[train_index], X_shuffled[test_index]\n",
    "        y_train, y_test = predictions_shuffled[train_index], predictions_shuffled[test_index]\n",
    "\n",
    "        regression_model.fit(X_train, y_train)\n",
    "\n",
    "        y_regression_prediction = regression_model.predict(X_test)\n",
    "        \n",
    "        mse_regression = np.mean((y_regression_prediction - y_test)**2)\n",
    "        regression_errors.append(mse_regression) \n",
    "    \n",
    "    avegrage_regression_error=np.average(regression_errors)\n",
    "    print ( (\"Average Mean Square Error for model type {} is {} :\").format( model_type , avegrage_regression_error ) ) \n",
    "    \n",
    "    \n",
    "    "
   ]
  },
  {
   "cell_type": "code",
   "execution_count": 11,
   "metadata": {},
   "outputs": [
    {
     "name": "stdout",
     "output_type": "stream",
     "text": [
      "Average Mean Square Error for model type ridge is 1261.0851206642262 :\n",
      "Average Mean Square Error for model type lasso is 1260.703525232298 :\n",
      "Average Mean Square Error for model type ridge is 1260.9171108354005 :\n",
      "Average Mean Square Error for model type lasso is 1260.4755703425212 :\n",
      "Average Mean Square Error for model type ridge is 1260.8046176699936 :\n",
      "Average Mean Square Error for model type lasso is 1260.444852711445 :\n"
     ]
    }
   ],
   "source": [
    "perform_cross_validation(\"ridge\",5)\n",
    "perform_cross_validation(\"lasso\",5)\n",
    "\n",
    "perform_cross_validation(\"ridge\",10)\n",
    "perform_cross_validation(\"lasso\",10)\n",
    "\n",
    "perform_cross_validation(\"ridge\",15)\n",
    "perform_cross_validation(\"lasso\",15)\n"
   ]
  },
  {
   "cell_type": "code",
   "execution_count": null,
   "metadata": {},
   "outputs": [],
   "source": []
  }
 ],
 "metadata": {
  "kernelspec": {
   "display_name": "Python 3",
   "language": "python",
   "name": "python3"
  },
  "language_info": {
   "codemirror_mode": {
    "name": "ipython",
    "version": 3
   },
   "file_extension": ".py",
   "mimetype": "text/x-python",
   "name": "python",
   "nbconvert_exporter": "python",
   "pygments_lexer": "ipython3",
   "version": "3.7.1"
  }
 },
 "nbformat": 4,
 "nbformat_minor": 2
}
